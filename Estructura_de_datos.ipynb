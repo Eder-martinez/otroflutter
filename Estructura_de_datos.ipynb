{
  "cells": [
    {
      "cell_type": "markdown",
      "metadata": {
        "id": "view-in-github",
        "colab_type": "text"
      },
      "source": [
        "<a href=\"https://colab.research.google.com/github/Eder-martinez/otroflutter/blob/main/Estructura_de_datos.ipynb\" target=\"_parent\"><img src=\"https://colab.research.google.com/assets/colab-badge.svg\" alt=\"Open In Colab\"/></a>"
      ]
    },
    {
      "cell_type": "code",
      "execution_count": null,
      "metadata": {
        "id": "Czty_XZSGxR6"
      },
      "outputs": [],
      "source": [
        "def sumatoria(num):\n",
        "  if num == 1:\n",
        "    return 1\n",
        "  else:\n",
        "    return num + sumatoria(num - 1)\n",
        "\n",
        "num = int(input(\"Ingrese un número para la sumatoria: \"))\n",
        "print(sumatoria(num))"
      ]
    },
    {
      "cell_type": "code",
      "execution_count": null,
      "metadata": {
        "id": "iU9mee0fqcOM"
      },
      "outputs": [],
      "source": [
        "def factorial(numero):\n",
        "  if numero == 0:\n",
        "    return 1\n",
        "  else:\n",
        "    return numero * factorial(numero-1)\n",
        "\n",
        "numero = int(input(\"Ingrese un número para la funcion factorial: \"))\n",
        "print (f\"El factorial del numero {numero} es: {factorial(numero)}\")\n"
      ]
    },
    {
      "cell_type": "code",
      "execution_count": null,
      "metadata": {
        "id": "Sql87yXPJT8y"
      },
      "outputs": [],
      "source": [
        "def fibonacci(n):\n",
        "    if n <= 0:\n",
        "        return 0\n",
        "    elif n == 1:\n",
        "        return 1\n",
        "    else:\n",
        "        return fibonacci(n - 1) + fibonacci(n - 2)\n",
        "\n",
        "n = int(input(\"Ingrese un valor: \"))\n",
        "resultado = fibonacci(n)\n",
        "print(f\"El número Fibonacci en la posición {n} es: {resultado}\")\n"
      ]
    },
    {
      "cell_type": "code",
      "execution_count": null,
      "metadata": {
        "id": "g2XjOzcLzaR6"
      },
      "outputs": [],
      "source": [
        "def base_decimal(decimal, base):\n",
        "    if decimal == 0:\n",
        "        return \"0\"\n",
        "\n",
        "    residuo = decimal % base\n",
        "    if residuo < 10:\n",
        "        resultado = str(residuo)\n",
        "    else:\n",
        "        resultado = chr(ord('A') + residuo - 10)\n",
        "\n",
        "    cociente = decimal // base\n",
        "\n",
        "    if cociente == 0:\n",
        "        if base == 2:\n",
        "          return resultado\n",
        "        elif base == 8:\n",
        "          return resultado\n",
        "        elif base == 16:\n",
        "          return resultado\n",
        "    return base_decimal(cociente, base) + resultado\n",
        "\n",
        "while True:\n",
        "  print(\"Converciones:\")\n",
        "  print(\"1.- Decimal a binario\")\n",
        "  print(\"2.- Decimal a octal\")\n",
        "  print(\"3.- Decimal a hexaddecimal\")\n",
        "  print(\"4.- Salir\")\n",
        "\n",
        "  opcion = input(\"selecciona una de las opciones (1,2,3,4): \")\n",
        "\n",
        "  if opcion == \"1\":\n",
        "    num_dec = int(input(\"Ingresa un numero decimal: \"))\n",
        "    resultado = base_decimal(num_dec, 2)\n",
        "    print(f\"El numero convertido a binario es: {resultado}\")\n",
        "  elif opcion == \"2\":\n",
        "    num_dec = int(input(\"Ingresa un numero decimal: \"))\n",
        "    resultado = base_decimal(num_dec, 8)\n",
        "    print(f\"El numero convertido a octal es: {resultado}\")\n",
        "  elif opcion == \"3\":\n",
        "    num_dec = int(input(\"Ingresa un numero decimal: \"))\n",
        "    resultado = base_decimal(num_dec, 16)\n",
        "    print(f\"El numero convertido a hexadecimal es: {resultado}\")\n",
        "\n",
        "  elif opcion == \"4\":\n",
        "      break\n",
        "  else:\n",
        "    print(\"Elige algo que sea valido.\")\n"
      ]
    },
    {
      "cell_type": "code",
      "execution_count": null,
      "metadata": {
        "id": "yhDIlGr3vXqC"
      },
      "outputs": [],
      "source": [
        "def bin(num):\n",
        "  if num == 0:\n",
        "    return \"0\"\n",
        "\n",
        "  elif num == 1:\n",
        "    return \"1\"\n",
        "\n",
        "  else:\n",
        "\n",
        "    cociente = num // 2\n",
        "\n",
        "    residuo = num % 2\n",
        "\n",
        "    return bin(cociente) + str(residuo)\n",
        "\n",
        "num = int(input(\"Ingrese un numero decimal: \"))\n",
        "binario = bin(num)\n",
        "print(f\"El numero decimal: {num}, en binario es: {binario}\")\n"
      ]
    },
    {
      "cell_type": "code",
      "execution_count": null,
      "metadata": {
        "id": "Nxg2lasim0or"
      },
      "outputs": [],
      "source": [
        "def integer_to_roman(integer, roman_values):\n",
        "   if integer == 0:\n",
        "        return \"\"\n",
        "\n",
        "   i, r = roman_values[0]\n",
        "\n",
        "   if integer >= i:\n",
        "      return r + integer_to_roman(integer - i, roman_values)\n",
        "\n",
        "   return integer_to_roman(integer, roman_values[1:])\n",
        "\n",
        "integer_roman = [(1000, 'M'), (900, 'CM'), (500, 'D'), (400, 'CD'), (100, 'C'), (90, 'XC'), (50, 'L'), (40, 'XL'), (10, 'X'), (9, 'IX'), (5, 'V'), (4, 'IV'), (1, 'I')]\n",
        "\n",
        "\n",
        "integer = int(input('Ingrese un número entero: '))\n",
        "\n",
        "if integer < 1:\n",
        "  print(\"El 0 no existe en numeros romanos, ingresa un numeor mayor o igual a cero\")\n",
        "else:\n",
        "  representacion_romano = integer_to_roman(integer, integer_roman)\n",
        "print(f'El número {integer} en número romano es: {representacion_romano}')"
      ]
    },
    {
      "cell_type": "code",
      "execution_count": null,
      "metadata": {
        "id": "oHfSQJA5Vq8p"
      },
      "outputs": [],
      "source": [
        "def inversor_cadena(cadena): # iniciando el codigo esta la funcion inversor que ocupa un argumento cadena, con esta funcion podremos invertir las cadenas de texto que se ingresen\n",
        " # en esta primera parte se identifica si la cedena tiene uno o menos caracteres de ser asi regresara la misma cadena ya que no se puede invertir, quedaria igual\n",
        "    if len(cadena) <= 1:\n",
        "        return cadena\n",
        "\n",
        " # si la cadena no cumple con lo anterior, entonces se llama a la funcion con una subcadena que excluira el primer caracter, luego se le agregag el primer caracter de la cadena\n",
        " # original al final de la cadena invertida que regresa el codigo\n",
        "    return inversor_cadena(cadena[1:]) + cadena[0]\n",
        "\n",
        "\n",
        "\n",
        "cadena_original = str(input(\"Ingrsa una palabra: \"))\n",
        "cadena_invertida = inversor_cadena(cadena_original)\n",
        "print(\"Cadena original:\", cadena_original)\n",
        "print(\"Cadena invertida:\", cadena_invertida)\n"
      ]
    },
    {
      "cell_type": "code",
      "execution_count": null,
      "metadata": {
        "id": "h3WXEjh5uZ9T"
      },
      "outputs": [],
      "source": [
        "# maximo como un divisor de 2 cifras y el minimo como un multiplo de cada una de ellas\n",
        "def maximo(uno, dos): # Esta funcion pide 2 argumentos para poder hacer el trabajo\n",
        "  if dos == 0:\n",
        "    return uno # si el valor de \"dos\" es igual a 0 regresara el valor de \"uno\", porque no se podria realizar la operacion\n",
        "\n",
        " # aqui llama a maximo, pero esta vez el valor de \"uno\" sera \"dos\" y el valor de \"dos\" sera el residuo de \"uno\" entre \"dos\", esto se hara hasta que el residuo sea igual a 0\n",
        "  else:\n",
        "    return maximo(dos, uno%dos)\n",
        "\n",
        "def minimo(uno, dos, valor=1): # Esta funcion trabajara con los mismos datos que la primera, añadiendo una variable de valor 1 a la funcion, la cual servira para las operaciones\n",
        "    if valor % uno == 0 and valor % dos == 0:\n",
        "        return valor\n",
        "    return minimo(uno, dos, valor + 1)  # en esta parte se multiplica \"uno\" por \"dos\" y se divide enrte la funcion de maximo\n",
        "\n",
        "uno = int(input(\"Ingresa un numero: \"))\n",
        "dos = int(input(\"Ingresa un numero: \"))\n",
        "\n",
        "print (f\"El maximo comúm divisor es: {maximo(uno, dos)}\") # la \"f\" en la linea sirve para llamar la funcoin y que inserte el resultado\n",
        "print (f\"El minimo común multiplo es: {minimo(uno, dos)}\")\n"
      ]
    },
    {
      "cell_type": "code",
      "execution_count": 30,
      "metadata": {
        "colab": {
          "base_uri": "https://localhost:8080/"
        },
        "id": "J0auff3Ky4hf",
        "outputId": "e5f3f22f-8f91-47f2-c204-783cafd0223d"
      },
      "outputs": [
        {
          "output_type": "stream",
          "name": "stdout",
          "text": [
            "El resultado de la multiplicacion rusa es:  1161\n"
          ]
        }
      ],
      "source": [
        "def mul_rusa(x, y):\n",
        "    resultados = []\n",
        "    while x > 0:\n",
        "        if x % 2 == 1:\n",
        "            resultados.append(y)\n",
        "        x //= 2\n",
        "        y *= 2\n",
        "\n",
        "    producto = sum(resultados)\n",
        "    return producto\n",
        "\n",
        "\n",
        "resultado = mul_rusa(27, 43)\n",
        "print (\"El resultado de la multiplicacion rusa es: \", resultado)"
      ]
    },
    {
      "cell_type": "code",
      "source": [
        "def ser_fibonnaci():\n",
        ""
      ],
      "metadata": {
        "id": "rr5K-Q_l3miF"
      },
      "execution_count": null,
      "outputs": []
    },
    {
      "cell_type": "code",
      "source": [
        "def ord_burbuja(arreglo):\n",
        "    n = len(arreglo)\n",
        "\n",
        "\n",
        "    for i in range(n-1):      # bucle principal\n",
        "        print(f\"{i+1} Recorrido (i = {i})\")\n",
        "        for j in range(n-1-i):  # bucle secundario\n",
        "            print (\"j =\", j)\n",
        "            if arreglo[j] > arreglo[j+1]:\n",
        "                arreglo[j], arreglo[j+1] = arreglo[j+1], arreglo[j]\n",
        "\n",
        "entrada = input(\"Ingresa los elementos del arrgelo separados por comas: \")\n",
        "elementos = [int(x) for x in entrada.split(\",\")]\n",
        "ord_burbuja(elementos)\n",
        "print(\"Arreglo ordenado\",elementos)"
      ],
      "metadata": {
        "id": "UMQRfTy91PAe"
      },
      "execution_count": null,
      "outputs": []
    },
    {
      "cell_type": "code",
      "source": [
        "def bus_particion(elemento):\n",
        ""
      ],
      "metadata": {
        "id": "3Mq0mRv_9hez"
      },
      "execution_count": null,
      "outputs": []
    }
  ],
  "metadata": {
    "colab": {
      "provenance": [],
      "authorship_tag": "ABX9TyOiCPhKbHUS2yJXZTlYTdFF",
      "include_colab_link": true
    },
    "kernelspec": {
      "display_name": "Python 3",
      "name": "python3"
    },
    "language_info": {
      "name": "python"
    }
  },
  "nbformat": 4,
  "nbformat_minor": 0
}